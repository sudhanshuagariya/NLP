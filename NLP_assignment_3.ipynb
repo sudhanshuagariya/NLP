{
 "cells": [
  {
   "cell_type": "code",
   "execution_count": 1,
   "metadata": {},
   "outputs": [],
   "source": [
    "import tweepy as tw #twitter API\n",
    "import re\n",
    "from textblob import TextBlob\n",
    "from collections import defaultdict\n",
    "import matplotlib.pyplot as plt"
   ]
  },
  {
   "cell_type": "code",
   "execution_count": 2,
   "metadata": {},
   "outputs": [],
   "source": [
    "consumer_key = '############################'\n",
    "consumer_secret = '############################'\n",
    "access_token = '############################'\n",
    "access_token_secret = '############################'"
   ]
  },
  {
   "cell_type": "code",
   "execution_count": 3,
   "metadata": {},
   "outputs": [],
   "source": [
    "auth = tw.OAuthHandler(consumer_key,consumer_secret)\n",
    "auth.set_access_token(access_token,access_token_secret)\n",
    "api = tw.API(auth, wait_on_rate_limit = True)"
   ]
  },
  {
   "cell_type": "code",
   "execution_count": 4,
   "metadata": {},
   "outputs": [],
   "source": [
    "tweet_statements = []\n",
    "search_words = 'lockdown'\n",
    "tweets = tw.Cursor(api.search, q=search_words, lang=\"en\", tweet_mode = 'extended', since='2020-09-06').items(300)\n",
    "for tweet in tweets:\n",
    "    tweet_statements.append(tweet.full_text)"
   ]
  },
  {
   "cell_type": "code",
   "execution_count": 5,
   "metadata": {},
   "outputs": [],
   "source": [
    "total_tweets = len(tweet_statements)"
   ]
  },
  {
   "cell_type": "code",
   "execution_count": 6,
   "metadata": {},
   "outputs": [],
   "source": [
    "def preprocess_tweet(tweet):\n",
    "    return ' '.join(re.sub(\"(@[A-Za-z0-9]+)|([^0-9A-Za-z \\t]) |(\\w+:\\/\\/\\S+)\", \" \", tweet).split())\n",
    "\n",
    "def get_sentiment(tweet):\n",
    "    result = TextBlob(preprocess_tweet(tweet)) \n",
    "    if result.sentiment.polarity > 0: \n",
    "        return 'Positive'\n",
    "    elif result.sentiment.polarity == 0: \n",
    "        return 'Neutral'\n",
    "    else: \n",
    "        return 'Negative'"
   ]
  },
  {
   "cell_type": "code",
   "execution_count": 7,
   "metadata": {},
   "outputs": [],
   "source": [
    "sentiments = defaultdict(list)\n",
    "for tweet in tweet_statements:\n",
    "    res = get_sentiment(tweet)\n",
    "    sentiments[res].append(tweet)"
   ]
  },
  {
   "cell_type": "code",
   "execution_count": 8,
   "metadata": {},
   "outputs": [],
   "source": [
    "percentages = [len(sentiments['Positive'])/total_tweets*100,\n",
    "               len(sentiments['Negative'])/total_tweets*100,\n",
    "               len(sentiments['Neutral'])/total_tweets*100]\n",
    "labels = ['Positive','Negative','Neutral']"
   ]
  },
  {
   "cell_type": "code",
   "execution_count": 9,
   "metadata": {},
   "outputs": [
    {
     "data": {
      "image/png": "[encoded data removed]",
      "text/plain": [
       "<Figure size 720x504 with 1 Axes>"
      ]
     },
     "metadata": {},
     "output_type": "display_data"
    }
   ],
   "source": [
    "fig = plt.figure(figsize = (10,7))\n",
    "plt.pie(percentages, labels=labels,autopct='%1.0f%%', labeldistance=1.2)\n",
    "plt.show()"
   ]
  },
  {
   "cell_type": "code",
   "execution_count": null,
   "metadata": {},
   "outputs": [],
   "source": []
  }
 ],
 "metadata": {
  "kernelspec": {
   "display_name": "Python 3",
   "language": "python",
   "name": "python3"
  },
  "language_info": {
   "codemirror_mode": {
    "name": "ipython",
    "version": 3
   },
   "file_extension": ".py",
   "mimetype": "text/x-python",
   "name": "python",
   "nbconvert_exporter": "python",
   "pygments_lexer": "ipython3",
   "version": "3.8.2"
  }
 },
 "nbformat": 4,
 "nbformat_minor": 4
}
